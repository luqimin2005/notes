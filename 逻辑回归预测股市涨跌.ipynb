{
 "cells": [
  {
   "cell_type": "code",
   "execution_count": 1,
   "metadata": {
    "collapsed": false
   },
   "outputs": [
    {
     "data": {
      "text/html": [
       "<div>\n",
       "<style scoped>\n",
       "    .dataframe tbody tr th:only-of-type {\n",
       "        vertical-align: middle;\n",
       "    }\n",
       "\n",
       "    .dataframe tbody tr th {\n",
       "        vertical-align: top;\n",
       "    }\n",
       "\n",
       "    .dataframe thead th {\n",
       "        text-align: right;\n",
       "    }\n",
       "</style>\n",
       "<table border=\"1\" class=\"dataframe\">\n",
       "  <thead>\n",
       "    <tr style=\"text-align: right;\">\n",
       "      <th></th>\n",
       "      <th>trade_date</th>\n",
       "      <th>stock_code</th>\n",
       "      <th>pe_ttm</th>\n",
       "      <th>pb</th>\n",
       "      <th>roe_ttm</th>\n",
       "      <th>roa_ttm</th>\n",
       "      <th>return_adj</th>\n",
       "      <th>open</th>\n",
       "      <th>close</th>\n",
       "      <th>high</th>\n",
       "      <th>low</th>\n",
       "      <th>turnover_rate</th>\n",
       "    </tr>\n",
       "  </thead>\n",
       "  <tbody>\n",
       "    <tr>\n",
       "      <th>0</th>\n",
       "      <td>2017-03-20</td>\n",
       "      <td>000001.SZ</td>\n",
       "      <td>7.02801</td>\n",
       "      <td>0.785602</td>\n",
       "      <td>0.111782</td>\n",
       "      <td>0.007652</td>\n",
       "      <td>-0.006445</td>\n",
       "      <td>9.29</td>\n",
       "      <td>9.25</td>\n",
       "      <td>9.31</td>\n",
       "      <td>9.22</td>\n",
       "      <td>0.004230</td>\n",
       "    </tr>\n",
       "    <tr>\n",
       "      <th>1</th>\n",
       "      <td>2017-03-21</td>\n",
       "      <td>000001.SZ</td>\n",
       "      <td>7.02044</td>\n",
       "      <td>0.784756</td>\n",
       "      <td>0.111782</td>\n",
       "      <td>0.007652</td>\n",
       "      <td>-0.001081</td>\n",
       "      <td>9.25</td>\n",
       "      <td>9.24</td>\n",
       "      <td>9.26</td>\n",
       "      <td>9.20</td>\n",
       "      <td>0.003275</td>\n",
       "    </tr>\n",
       "    <tr>\n",
       "      <th>2</th>\n",
       "      <td>2017-03-22</td>\n",
       "      <td>000001.SZ</td>\n",
       "      <td>6.95964</td>\n",
       "      <td>0.777960</td>\n",
       "      <td>0.111782</td>\n",
       "      <td>0.007652</td>\n",
       "      <td>-0.008658</td>\n",
       "      <td>9.20</td>\n",
       "      <td>9.16</td>\n",
       "      <td>9.22</td>\n",
       "      <td>9.14</td>\n",
       "      <td>0.003351</td>\n",
       "    </tr>\n",
       "    <tr>\n",
       "      <th>3</th>\n",
       "      <td>2017-03-23</td>\n",
       "      <td>000001.SZ</td>\n",
       "      <td>6.99004</td>\n",
       "      <td>0.781358</td>\n",
       "      <td>0.111782</td>\n",
       "      <td>0.007652</td>\n",
       "      <td>0.004367</td>\n",
       "      <td>9.16</td>\n",
       "      <td>9.20</td>\n",
       "      <td>9.24</td>\n",
       "      <td>9.15</td>\n",
       "      <td>0.002563</td>\n",
       "    </tr>\n",
       "    <tr>\n",
       "      <th>4</th>\n",
       "      <td>2017-03-24</td>\n",
       "      <td>000001.SZ</td>\n",
       "      <td>6.98243</td>\n",
       "      <td>0.780508</td>\n",
       "      <td>0.111782</td>\n",
       "      <td>0.007652</td>\n",
       "      <td>-0.001087</td>\n",
       "      <td>9.20</td>\n",
       "      <td>9.19</td>\n",
       "      <td>9.24</td>\n",
       "      <td>9.16</td>\n",
       "      <td>0.004203</td>\n",
       "    </tr>\n",
       "  </tbody>\n",
       "</table>\n",
       "</div>"
      ],
      "text/plain": [
       "   trade_date stock_code   pe_ttm        pb   roe_ttm   roa_ttm  return_adj  \\\n",
       "0  2017-03-20  000001.SZ  7.02801  0.785602  0.111782  0.007652   -0.006445   \n",
       "1  2017-03-21  000001.SZ  7.02044  0.784756  0.111782  0.007652   -0.001081   \n",
       "2  2017-03-22  000001.SZ  6.95964  0.777960  0.111782  0.007652   -0.008658   \n",
       "3  2017-03-23  000001.SZ  6.99004  0.781358  0.111782  0.007652    0.004367   \n",
       "4  2017-03-24  000001.SZ  6.98243  0.780508  0.111782  0.007652   -0.001087   \n",
       "\n",
       "   open  close  high   low  turnover_rate  \n",
       "0  9.29   9.25  9.31  9.22       0.004230  \n",
       "1  9.25   9.24  9.26  9.20       0.003275  \n",
       "2  9.20   9.16  9.22  9.14       0.003351  \n",
       "3  9.16   9.20  9.24  9.15       0.002563  \n",
       "4  9.20   9.19  9.24  9.16       0.004203  "
      ]
     },
     "execution_count": 1,
     "metadata": {},
     "output_type": "execute_result"
    }
   ],
   "source": [
    "import pandas as pd\n",
    "path='C:/Users/Administrator/Downloads/sample(1).csv'\n",
    "data=pd.read_csv(path)\n",
    "data.head()"
   ]
  },
  {
   "cell_type": "code",
   "execution_count": 2,
   "metadata": {
    "collapsed": true
   },
   "outputs": [],
   "source": [
    "def f(x):\n",
    "    return 1 if x>=0 else 0 #不涨不跌也为涨\n",
    "data['target']=(data['close']-data['open']).map(f)"
   ]
  },
  {
   "cell_type": "code",
   "execution_count": 3,
   "metadata": {
    "collapsed": false
   },
   "outputs": [],
   "source": [
    "X=data.iloc[:,2:-1]\n",
    "y=data['target']"
   ]
  },
  {
   "cell_type": "code",
   "execution_count": 4,
   "metadata": {
    "collapsed": false
   },
   "outputs": [
    {
     "name": "stdout",
     "output_type": "stream",
     "text": [
      "5折交叉验证，模型的auc分数为0.88\n"
     ]
    }
   ],
   "source": [
    "from sklearn.model_selection import KFold\n",
    "from sklearn.preprocessing import MinMaxScaler\n",
    "from sklearn.linear_model import LogisticRegression\n",
    "from sklearn.metrics import roc_auc_score\n",
    "\n",
    "kf=KFold(n_splits=5) #5折交叉验证\n",
    "auc=0\n",
    "for train_index, test_index in kf.split(X):\n",
    "    #归一化\n",
    "    scaler=MinMaxScaler()\n",
    "    train_X=scaler.fit_transform(X.values[train_index])\n",
    "    train_y=y[train_index]\n",
    "    test_X=scaler.transform(X.values[test_index])\n",
    "    test_y=y[test_index]\n",
    "    \n",
    "    lr=LogisticRegression(solver='lbfgs')\n",
    "    lr.fit(train_X,train_y)\n",
    "    test_p=lr.predict(test_X)\n",
    "    \n",
    "    auc+=roc_auc_score(test_y,test_p)\n",
    "print('%d折交叉验证，模型的auc分数为%.2f' % (kf.get_n_splits(),auc/kf.get_n_splits()))"
   ]
  }
 ],
 "metadata": {
  "kernelspec": {
   "display_name": "Python 3",
   "language": "python",
   "name": "python3"
  },
  "language_info": {
   "codemirror_mode": {
    "name": "ipython",
    "version": 3
   },
   "file_extension": ".py",
   "mimetype": "text/x-python",
   "name": "python",
   "nbconvert_exporter": "python",
   "pygments_lexer": "ipython3",
   "version": "3.6.2"
  }
 },
 "nbformat": 4,
 "nbformat_minor": 2
}
